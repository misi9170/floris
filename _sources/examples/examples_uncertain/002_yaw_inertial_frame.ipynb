{
 "cells": [
  {
   "cell_type": "markdown",
   "id": "4236053f",
   "metadata": {},
   "source": [
    "# TODO add example here"
   ]
  },
  {
   "cell_type": "code",
   "execution_count": null,
   "id": "18880073",
   "metadata": {},
   "outputs": [],
   "source": [
    "#TODO add example here\n",
    "\n",
    "import warnings\n",
    "warnings.filterwarnings('ignore')\n"
   ]
  }
 ],
 "metadata": {},
 "nbformat": 4,
 "nbformat_minor": 5
}
